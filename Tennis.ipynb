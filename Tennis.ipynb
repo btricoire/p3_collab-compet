{
 "cells": [
  {
   "cell_type": "markdown",
   "metadata": {},
   "source": [
    "# Collaboration and Competition\n",
    "\n",
    "---\n",
    "\n",
    "In this notebook, you will learn how to use the Unity ML-Agents environment for the third project of the [Deep Reinforcement Learning Nanodegree](https://www.udacity.com/course/deep-reinforcement-learning-nanodegree--nd893) program.\n",
    "\n",
    "### 1. Start the Environment\n",
    "\n",
    "We begin by importing the necessary packages.  If the code cell below returns an error, please revisit the project instructions to double-check that you have installed [Unity ML-Agents](https://github.com/Unity-Technologies/ml-agents/blob/master/docs/Installation.md) and [NumPy](http://www.numpy.org/)."
   ]
  },
  {
   "cell_type": "code",
   "execution_count": 1,
   "metadata": {},
   "outputs": [],
   "source": [
    "from unityagents import UnityEnvironment\n",
    "import numpy as np\n",
    "import torch\n",
    "from collections import deque\n",
    "from ddpg_multi_agents import Multi_Agents, GaussianNoise, OUNoise\n",
    "import os\n",
    "import json\n",
    "import os.path\n",
    "import matplotlib.pyplot as plt"
   ]
  },
  {
   "cell_type": "markdown",
   "metadata": {},
   "source": [
    "Next, we will start the environment!  **_Before running the code cell below_**, change the `file_name` parameter to match the location of the Unity environment that you downloaded.\n",
    "\n",
    "- **Mac**: `\"path/to/Tennis.app\"`\n",
    "- **Windows** (x86): `\"path/to/Tennis_Windows_x86/Tennis.exe\"`\n",
    "- **Windows** (x86_64): `\"path/to/Tennis_Windows_x86_64/Tennis.exe\"`\n",
    "- **Linux** (x86): `\"path/to/Tennis_Linux/Tennis.x86\"`\n",
    "- **Linux** (x86_64): `\"path/to/Tennis_Linux/Tennis.x86_64\"`\n",
    "- **Linux** (x86, headless): `\"path/to/Tennis_Linux_NoVis/Tennis.x86\"`\n",
    "- **Linux** (x86_64, headless): `\"path/to/Tennis_Linux_NoVis/Tennis.x86_64\"`\n",
    "\n",
    "For instance, if you are using a Mac, then you downloaded `Tennis.app`.  If this file is in the same folder as the notebook, then the line below should appear as follows:\n",
    "```\n",
    "env = UnityEnvironment(file_name=\"Tennis.app\")\n",
    "```"
   ]
  },
  {
   "cell_type": "code",
   "execution_count": 2,
   "metadata": {
    "scrolled": true
   },
   "outputs": [
    {
     "name": "stderr",
     "output_type": "stream",
     "text": [
      "INFO:unityagents:\n",
      "'Academy' started successfully!\n",
      "Unity Academy name: Academy\n",
      "        Number of Brains: 1\n",
      "        Number of External Brains : 1\n",
      "        Lesson number : 0\n",
      "        Reset Parameters :\n",
      "\t\t\n",
      "Unity brain name: TennisBrain\n",
      "        Number of Visual Observations (per agent): 0\n",
      "        Vector Observation space type: continuous\n",
      "        Vector Observation space size (per agent): 8\n",
      "        Number of stacked Vector Observation: 3\n",
      "        Vector Action space type: continuous\n",
      "        Vector Action space size (per agent): 2\n",
      "        Vector Action descriptions: , \n"
     ]
    }
   ],
   "source": [
    "env = UnityEnvironment(file_name=\"./Tennis_Linux/Tennis.x86_64\")"
   ]
  },
  {
   "cell_type": "markdown",
   "metadata": {},
   "source": [
    "Environments contain **_brains_** which are responsible for deciding the actions of their associated agents. Here we check for the first brain available, and set it as the default brain we will be controlling from Python."
   ]
  },
  {
   "cell_type": "code",
   "execution_count": 3,
   "metadata": {},
   "outputs": [],
   "source": [
    "# get the default brain\n",
    "brain_name = env.brain_names[0]\n",
    "brain = env.brains[brain_name]"
   ]
  },
  {
   "cell_type": "markdown",
   "metadata": {},
   "source": [
    "### 2. Examine the State and Action Spaces\n",
    "\n",
    "In this environment, two agents control rackets to bounce a ball over a net. If an agent hits the ball over the net, it receives a reward of +0.1.  If an agent lets a ball hit the ground or hits the ball out of bounds, it receives a reward of -0.01.  Thus, the goal of each agent is to keep the ball in play.\n",
    "\n",
    "The observation space consists of 8 variables corresponding to the position and velocity of the ball and racket. Two continuous actions are available, corresponding to movement toward (or away from) the net, and jumping. \n",
    "\n",
    "Run the code cell below to print some information about the environment."
   ]
  },
  {
   "cell_type": "code",
   "execution_count": 4,
   "metadata": {},
   "outputs": [
    {
     "name": "stdout",
     "output_type": "stream",
     "text": [
      "Number of agents: 2\n",
      "Size of each action: 2\n",
      "There are 2 agents. Each observes a state with length: 24\n",
      "The state for the first agent looks like: [ 0.          0.          0.          0.          0.          0.\n",
      "  0.          0.          0.          0.          0.          0.\n",
      "  0.          0.          0.          0.         -6.65278625 -1.5\n",
      " -0.          0.          6.83172083  6.         -0.          0.        ]\n"
     ]
    }
   ],
   "source": [
    "# reset the environment\n",
    "env_info = env.reset(train_mode=True)[brain_name]\n",
    "\n",
    "# number of agents \n",
    "num_agents = len(env_info.agents)\n",
    "print('Number of agents:', num_agents)\n",
    "\n",
    "# size of each action\n",
    "action_size = brain.vector_action_space_size\n",
    "print('Size of each action:', action_size)\n",
    "\n",
    "# examine the state space \n",
    "states = env_info.vector_observations\n",
    "state_size = states.shape[1]\n",
    "agents_count = states.shape[0]\n",
    "print('There are {} agents. Each observes a state with length: {}'.format(states.shape[0], state_size))\n",
    "print('The state for the first agent looks like:', states[0])"
   ]
  },
  {
   "cell_type": "markdown",
   "metadata": {},
   "source": [
    "## 3. Solving the environment : find best distribution of hyper parameters\n",
    "\n",
    "The Tennis environment is solved using a DDPG (Deep Determinic Policy Gradient). Common reinforcement learning techniques as DQN could not be applied here since it only apply to discrete action spaces in the sense that it searches for the action that maximize the action value function at each iteration.\n",
    "\n",
    "The DDPG algorithm introduces many parameters we can play on to speed up the convergence and the final score of the trained agent :\n",
    "\n",
    "- **buffer_size** : The size of the replay buffer in the context of the *Experience replay*,\n",
    "- **batch_size** : The size of the batch involved in the update enhanced using *Experience replay*,\n",
    "- **gamma_start** : The discount factor involved in the rewards expectation at the begining of the training,\n",
    "- **gamma_end** : The maximum discount factor,\n",
    "- **gamma_decay** : The discount factor increase coefficient at each iteration,\n",
    "- **(fc1, fc2)** : the size of the first and the second layer of the fully connected neural networks that are used for the actor and for the critic.\n",
    "- **lr_actor** : the learning rate of the neural netowrk of the actor,\n",
    "- **lr_critic** : the learning rate of the neural netowrk of the critic,\n",
    "- **noise** : the noise applied on the actor output to ease exploration, we test different parameterizations of the Ornstein-Uhlenbeck process suggested in the course but also test different gaussian noises.\n",
    "- **noise_factor_end** : the minimum coefficient applied to the noise factor (starting at 1 at the beginning of the training)\n",
    "- **noise_factor_decay** : the decay coefficient applied to the noise factor \n",
    "\n",
    "### 3.1 Define hyper parameter values to test\n",
    "\n",
    "The following cell introduces all the values we test for the hyper parameters described above :\n"
   ]
  },
  {
   "cell_type": "code",
   "execution_count": 5,
   "metadata": {},
   "outputs": [],
   "source": [
    "#env.close()"
   ]
  },
  {
   "cell_type": "code",
   "execution_count": 6,
   "metadata": {},
   "outputs": [],
   "source": [
    "# The values to test for each parameter\n",
    "hyper_parameters = {\n",
    "        'inbalanced_replay_memory_positive_reward_ratio' : [0.01, 0.05, 0.1, 0.25, 0.5, 0.75, 0.9],\n",
    "        'lr_actor, lr_critic' : [(1e-4, 1e-4), (1e-4, 1e-3), (1e-3, 1e-4), (1e-3, 1e-3)],\n",
    "        '(fc1,fc2)' : [(128, 128), (128, 256), (256, 128), (256, 512), (512, 256)],\n",
    "        'buffer_size':[int(1e5), int(1e6), int(1e7)],\n",
    "        'batch_size':[512, 1024, 2048, 4096],\n",
    "        '(gamma_start, gamma_end, gamma_increase)':[\n",
    "            (0.9, 0.99, 1.001),\n",
    "            (0.95, 0.995, 1.001),\n",
    "            (0.99, 0.999, 1.001),\n",
    "            (0.995, 0.9995, 1.001)\n",
    "        ],\n",
    "        '(tau_start, tau_end, tau_decay)':[\n",
    "            (0.005, 0.0005, 0.999),\n",
    "            (0.01, 0.001, 0.999),\n",
    "            (0.05, 0.005, 0.999)\n",
    "        ],\n",
    "        'noise' : [\n",
    "                   GaussianNoise(action_size, 0.1),\n",
    "                   GaussianNoise(action_size, 0.5),\n",
    "                   GaussianNoise(action_size, 1.0),\n",
    "                   OUNoise(action_size, 0, 0., 0.075, 0.1),\n",
    "                   OUNoise(action_size, 0, 0., 0.15, 0.2),\n",
    "                   OUNoise(action_size, 0, 0., 0.3, 0.4)\n",
    "                  ],\n",
    "        'noise_factor_decay':[0.9, 0.99, 0.999],\n",
    "        '(update_rate, update_count)' :[(1, 1), (10, 5), (5, 10), (10, 10), (10, 20), (20, 10), (20, 20)]\n",
    "    }\n",
    "\n",
    "default_parameters = {\n",
    "        'lr_actor, lr_critic' : (1e-4, 1e-4),\n",
    "        '(fc1,fc2)' :  (256, 256),\n",
    "        'buffer_size':int(1e5),\n",
    "        'batch_size':1024,\n",
    "        '(gamma_start, gamma_end, gamma_increase)' : (0.95, 0.995, 1.001),\n",
    "        '(tau_start, tau_end, tau_decay)' : (0.01, 0.001, 0.999),\n",
    "        #'noise' : OUNoise(action_size, 0, 0., 0.15, 0.2)\n",
    "         'noise' : GaussianNoise(action_size, 0.5),\n",
    "         'noise_factor_end' : 0.01,\n",
    "         'noise_factor_decay' : 0.99,\n",
    "         '(update_rate, update_count)' : (20, 20),\n",
    "         'inbalanced_replay_memory_positive_reward_ratio' : 0\n",
    "    }\n",
    " \n",
    "def to_name(parameters) :\n",
    "    \"\"\"\n",
    "    built a user friendly string that describes a particular experiment,\n",
    "    specified by a value distribution for parameters\n",
    "    \"\"\"\n",
    "    return ' '.join('{}={}'.format(name, str(value)) for name, value in parameters.items())\n",
    "\n",
    "\n",
    "def parameters_to_agent(parameters) :\n",
    "    buffer_size = parameters['buffer_size']\n",
    "    batch_size = parameters['batch_size']\n",
    "    fc1_units, fc2_units = parameters['(fc1,fc2)']\n",
    "    lr_actor, lr_critic = parameters['lr_actor, lr_critic']\n",
    "    noise = parameters['noise']\n",
    "    lr_actor, lr_critic = parameters['lr_actor, lr_critic']\n",
    "    update_rate, update_count = parameters['(update_rate, update_count)']\n",
    "    inbalanced_replay_memory_positive_reward_ratio = parameters['inbalanced_replay_memory_positive_reward_ratio']\n",
    "    return Multi_Agents(\n",
    "        agents_count,\n",
    "        state_size,\n",
    "        action_size,\n",
    "        0,\n",
    "        buffer_size,\n",
    "        batch_size,\n",
    "        fc1_units,\n",
    "        fc2_units,\n",
    "        noise,\n",
    "        lr_actor,\n",
    "        lr_critic,\n",
    "        update_rate,\n",
    "        update_count, \n",
    "        inbalanced_replay_memory_positive_reward_ratio\n",
    "    )\n",
    "    "
   ]
  },
  {
   "cell_type": "markdown",
   "metadata": {},
   "source": [
    "### 3.2 A stop and resume implementation for hyper-parameterization : Save partial result\n",
    "Our hyper parameters tuning heuristic implies to training many times the agent. Since this is time consuming, we save the result after each training to be able to stop and resume our computations when we want without loosing what has already been computed. "
   ]
  },
  {
   "cell_type": "code",
   "execution_count": 7,
   "metadata": {},
   "outputs": [],
   "source": [
    "# load what has already been computed\n",
    "if os.path.exists('hyper_parameters_tuning.json'):\n",
    "    with open('hyper_parameters_tuning.json') as json_file:\n",
    "        results = json.load(json_file)\n",
    "else :\n",
    "    results = {}\n"
   ]
  },
  {
   "cell_type": "markdown",
   "metadata": {},
   "source": [
    "### 3.3 training routine\n",
    "The following **ddpg** routine run the specified number of episodes per agent with the specified number of timeframe per episode. It is very similar to the implementation provided in the Udacity course (for instance [ddpg-pendulum](https://github.com/udacity/deep-reinforcement-learning/tree/master/ddpg-pendulum)) except that data like *actions*, *states*, *next_states*, *rewards*, *dones* are no longer single values but arrays (one value per agent).\n",
    "\n",
    "Since we implemented an hyper parameters tuning, we now receive the hyper parameters of the algorithm in the routine. "
   ]
  },
  {
   "cell_type": "code",
   "execution_count": 8,
   "metadata": {
    "scrolled": false
   },
   "outputs": [],
   "source": [
    "def ddpg(parameters,name,n_episodes=2000, max_t=10000000, train_mode = True, agent = None):\n",
    "    if agent is None :\n",
    "        agent = parameters_to_agent(parameters)\n",
    "        \n",
    "    gamma, gamma_end, gamma_increase = parameters['(gamma_start, gamma_end, gamma_increase)']\n",
    "    tau, tau_end, tau_decay = parameters['(tau_start, tau_end, tau_decay)']\n",
    "    noise_factor = 1.0\n",
    "    noise_factor_decay = parameters['noise_factor_decay']\n",
    "    noise_factor_end = parameters['noise_factor_end']\n",
    "    scores_deque = deque(maxlen=100)\n",
    "    scores = []\n",
    "    for i_episode in range(1, n_episodes+1):\n",
    "        env_info = env.reset(train_mode=train_mode)[brain_name] \n",
    "        states = env_info.vector_observations\n",
    "        score = np.zeros(agents_count)\n",
    "        for t in range(max_t):\n",
    "            actions = agent.act(states, True, noise_factor)\n",
    "            env_info = env.step(actions)[brain_name] \n",
    "            next_states = env_info.vector_observations\n",
    "            rewards = env_info.rewards\n",
    "            dones = env_info.local_done\n",
    "            agent.step(states, actions, rewards, next_states, dones, gamma, tau)\n",
    "            states = next_states\n",
    "            score += rewards\n",
    "            if np.any(dones):\n",
    "                break \n",
    "        #print(f'score = {score}')\n",
    "        scores.append(np.max(score))\n",
    "        scores_deque.append(np.max(score))\n",
    "        print(f'Episode {i_episode}\\t\\\n",
    "        score = {np.max(score)},\\\n",
    "        mean prev 100 = {np.mean(scores_deque)},\\\n",
    "        gamma = {gamma},\\\n",
    "        tau={tau}, noise_factor={noise_factor}\\\n",
    "        #positive_rewards = {len(agent.memory.positive_reward_memory) if agent.memory.inbalanced else \"-\"},\\\n",
    "        #negative rewards = {len(agent.memory.negative_reward_memory) if agent.memory.inbalanced else \"-\"},\\\n",
    "        ', end='\\r')\n",
    "        \n",
    "        \n",
    "        if train_mode :\n",
    "            torch.save(agent.actor_local.state_dict(), f'checkpoint_actor({name}).pth')\n",
    "            torch.save(agent.critic_local.state_dict(), f'checkpoint_critic({name}).pth')\n",
    "        agent.reset()  \n",
    "        \n",
    "        gamma = min(gamma_end, gamma*gamma_increase)\n",
    "        tau = max(tau_end, tau*tau_decay)\n",
    "        noise_factor = max(noise_factor_end, noise_factor*noise_factor_decay)\n",
    "    return agent, scores\n"
   ]
  },
  {
   "cell_type": "markdown",
   "metadata": {},
   "source": [
    "## 3.4 Evaluate each value for each hyper parameter\n",
    "Train the agent for 200 iterations and save a json that gives for each experiment the value at each iteration"
   ]
  },
  {
   "cell_type": "code",
   "execution_count": 9,
   "metadata": {},
   "outputs": [
    {
     "name": "stdout",
     "output_type": "stream",
     "text": [
      "\n",
      "parameter inbalanced_replay_memory_positive_reward_ratio, value = 0.01 already tuned\n",
      "\n",
      "parameter inbalanced_replay_memory_positive_reward_ratio, value = 0.05 already tuned\n",
      "\n",
      "parameter inbalanced_replay_memory_positive_reward_ratio, value = 0.1 already tuned\n",
      "\n",
      "parameter inbalanced_replay_memory_positive_reward_ratio, value = 0.25 already tuned\n",
      "\n",
      "parameter inbalanced_replay_memory_positive_reward_ratio, value = 0.5 already tuned\n",
      "\n",
      "parameter inbalanced_replay_memory_positive_reward_ratio, value = 0.75 already tuned\n",
      "\n",
      "parameter inbalanced_replay_memory_positive_reward_ratio, value = 0.9 already tuned\n",
      "\n",
      "parameter lr_actor, lr_critic, value = (0.0001, 0.0001) already tuned\n",
      "\n",
      "parameter lr_actor, lr_critic, value = (0.0001, 0.001) already tuned\n",
      "\n",
      "parameter lr_actor, lr_critic, value = (0.001, 0.0001) already tuned\n",
      "\n",
      "parameter lr_actor, lr_critic, value = (0.001, 0.001) already tuned\n",
      "\n",
      "parameter (fc1,fc2), value = (128, 128) already tuned\n",
      "\n",
      "parameter (fc1,fc2), value = (128, 256) already tuned\n",
      "\n",
      "parameter (fc1,fc2), value = (256, 128) already tuned\n",
      "\n",
      "parameter (fc1,fc2), value = (256, 512) already tuned\n",
      "\n",
      "parameter (fc1,fc2), value = (512, 256) already tuned\n",
      "\n",
      "parameter buffer_size, value = 100000 already tuned\n",
      "\n",
      "parameter buffer_size, value = 1000000 already tuned\n",
      "\n",
      "parameter buffer_size, value = 10000000 already tuned\n",
      "\n",
      "parameter batch_size, value = 512 already tuned\n",
      "\n",
      "parameter batch_size, value = 1024 already tuned\n",
      "\n",
      "parameter batch_size, value = 2048 already tuned\n",
      "\n",
      "parameter batch_size, value = 4096 already tuned\n",
      "\n",
      "parameter (gamma_start, gamma_end, gamma_increase), value = (0.9, 0.99, 1.001) already tuned\n",
      "\n",
      "parameter (gamma_start, gamma_end, gamma_increase), value = (0.95, 0.995, 1.001) already tuned\n",
      "\n",
      "parameter (gamma_start, gamma_end, gamma_increase), value = (0.99, 0.999, 1.001) already tuned\n",
      "\n",
      "parameter (gamma_start, gamma_end, gamma_increase), value = (0.995, 0.9995, 1.001) already tuned\n",
      "\n",
      "parameter (tau_start, tau_end, tau_decay), value = (0.005, 0.0005, 0.999) already tuned\n",
      "\n",
      "parameter (tau_start, tau_end, tau_decay), value = (0.01, 0.001, 0.999) already tuned\n",
      "\n",
      "parameter (tau_start, tau_end, tau_decay), value = (0.05, 0.005, 0.999) already tuned\n",
      "\n",
      "parameter noise, value = GaussianNoise(factor = 0.1) already tuned\n",
      "\n",
      "parameter noise, value = GaussianNoise(factor = 0.5) already tuned\n",
      "\n",
      "parameter noise, value = GaussianNoise(factor = 1.0) already tuned\n",
      "\n",
      "parameter noise, value = OUNoise(mu = 0.0 ,theta = 0.075, sigma = 0.1) already tuned\n",
      "\n",
      "parameter noise, value = OUNoise(mu = 0.0 ,theta = 0.15, sigma = 0.2) already tuned\n",
      "\n",
      "parameter noise, value = OUNoise(mu = 0.0 ,theta = 0.3, sigma = 0.4) already tuned\n",
      "\n",
      "parameter noise_factor_decay, value = 0.9 already tuned\n",
      "\n",
      "parameter noise_factor_decay, value = 0.99 already tuned\n",
      "\n",
      "parameter noise_factor_decay, value = 0.999 already tuned\n",
      "\n",
      "parameter (update_rate, update_count), value = (1, 1) already tuned\n",
      "\n",
      "parameter (update_rate, update_count), value = (10, 5) already tuned\n",
      "\n",
      "parameter (update_rate, update_count), value = (5, 10) already tuned\n",
      "\n",
      "parameter (update_rate, update_count), value = (10, 10) already tuned\n",
      "\n",
      "parameter (update_rate, update_count), value = (10, 20) already tuned\n",
      "\n",
      "parameter (update_rate, update_count), value = (20, 10) already tuned\n",
      "\n",
      "parameter (update_rate, update_count), value = (20, 20) already tuned\n"
     ]
    }
   ],
   "source": [
    "# find sequentially the \"best\" value for each parameters after 200 episodes. \n",
    "# When a parameter is choosen, the others take values from the dqn project\n",
    "\n",
    "for name, parameter in hyper_parameters.items() :\n",
    "    \n",
    "    for value in parameter :\n",
    "        key = '{}_{}'.format(name, str(value))\n",
    "        if not key in results :\n",
    "            print(\"\\n\\nTuning parameter {}, value = {}\".format(name, value))\n",
    "            parameters = default_parameters.copy()\n",
    "            parameters[name] = value\n",
    "            print(parameters)\n",
    "            _, scores = ddpg(parameters, name, 2000)\n",
    "            results[key] = scores\n",
    "            with open('hyper_parameters_tuning.json', 'w') as fp:\n",
    "                json.dump(results, fp)       \n",
    "        else :\n",
    "            print(\"\\nparameter {}, value = {} already tuned\".format(name, value))\n",
    "with open('hyper_parameters_tuning.json', 'w') as fp:\n",
    "    json.dump(results, fp) "
   ]
  },
  {
   "cell_type": "markdown",
   "metadata": {},
   "source": [
    "## 4. Solving the environment : Train the model with the best hyper parameters values find before"
   ]
  },
  {
   "cell_type": "code",
   "execution_count": 10,
   "metadata": {},
   "outputs": [
    {
     "name": "stdout",
     "output_type": "stream",
     "text": [
      "len(positive_reward_memory) = 10000, len(negative_reward_memory) = 990000\n",
      "Episode 2000\t        score = 1.9000000283122063,        mean prev 100 = 2.0418000304326416,        gamma = 0.995,        tau=0.0006766763032907868, noise_factor=0.01        #positive_rewards = 48147,        #negative rewards = 1000000,         02,                \r"
     ]
    }
   ],
   "source": [
    "chosen_parameters = {\n",
    "        'lr_actor, lr_critic' : (1e-4, 1e-4),\n",
    "        '(fc1,fc2)' :  (256, 512),\n",
    "        'buffer_size':int(1e6),\n",
    "        'batch_size':1024,\n",
    "        '(gamma_start, gamma_end, gamma_increase)' : (0.95, 0.995, 1.001),\n",
    "        '(tau_start, tau_end, tau_decay)' : (0.005, 0.0005, 0.999),\n",
    "         'noise' : OUNoise(action_size, 0, 0., 0.3, 0.4),\n",
    "         'noise_factor_end' : 0.01,\n",
    "         'noise_factor_decay' : 0.99,\n",
    "         '(update_rate, update_count)' : (10, 20),\n",
    "         'inbalanced_replay_memory_positive_reward_ratio' : 0.01\n",
    "    }\n",
    "agent, scores = ddpg(chosen_parameters, 'best')"
   ]
  },
  {
   "cell_type": "markdown",
   "metadata": {},
   "source": [
    "## Plot the scores to show that it is above 0.5 for more than 100 iterations"
   ]
  },
  {
   "cell_type": "code",
   "execution_count": 12,
   "metadata": {},
   "outputs": [],
   "source": [
    "final_scores = {}\n",
    "final_scores['best'] = scores\n",
    "with open('final_scores.json', 'w') as fp:\n",
    "    json.dump(final_scores, fp)  "
   ]
  },
  {
   "cell_type": "code",
   "execution_count": 13,
   "metadata": {},
   "outputs": [
    {
     "data": {
      "image/png": "[encoded data removed]",
      "text/plain": [
       "<Figure size 432x288 with 1 Axes>"
      ]
     },
     "metadata": {
      "needs_background": "light"
     },
     "output_type": "display_data"
    },
    {
     "data": {
      "text/plain": [
       "None"
      ]
     },
     "metadata": {},
     "output_type": "display_data"
    }
   ],
   "source": [
    "\n",
    "\n",
    "scores = list(scores)\n",
    "# plot the score\n",
    "fig = plt.figure()\n",
    "ax = fig.add_subplot(111)\n",
    "plt.plot(np.arange(1, len(scores)+1), scores)\n",
    "plt.ylabel('Score')\n",
    "plt.xlabel('Episode #')\n",
    "display(plt.show())"
   ]
  },
  {
   "cell_type": "code",
   "execution_count": null,
   "metadata": {},
   "outputs": [],
   "source": []
  }
 ],
 "metadata": {
  "kernelspec": {
   "display_name": "Python 3",
   "language": "python",
   "name": "python3"
  },
  "language_info": {
   "codemirror_mode": {
    "name": "ipython",
    "version": 3
   },
   "file_extension": ".py",
   "mimetype": "text/x-python",
   "name": "python",
   "nbconvert_exporter": "python",
   "pygments_lexer": "ipython3",
   "version": "3.6.7"
  }
 },
 "nbformat": 4,
 "nbformat_minor": 2
}
